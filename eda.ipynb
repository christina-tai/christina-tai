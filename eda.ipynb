{
 "cells": [
  {
   "cell_type": "markdown",
   "metadata": {},
   "source": [
    "# Exploratory Data Analysis "
   ]
  },
  {
   "cell_type": "markdown",
   "metadata": {},
   "source": [
    "## Objectives\n",
    "\n",
    "Students should be able to:\n",
    "\n",
    "- Identify key questions when investigating a new data set.\n",
    "- Answer the questions identified by computing appropriate metrics and creating data visualizations.\n",
    "- Apply appropriate data visualization techniques (box plots, histograms, scatter, bar charts, heat maps, etc.) to answer key questions about a data set.\n",
    "- Calculate appropriate metrics of features/and or targets to answer questions (mean, number of missing values per feature, etc.)\n"
   ]
  },
  {
   "cell_type": "markdown",
   "metadata": {},
   "source": [
    "### Question:\n",
    "\n",
    "Now lets put these skills together in the way we would typically explore data. This is called EDA. Exploratory Data Analysis.\n",
    "\n",
    "Open chess_games.csv and answer these questions (use markdown headers to denote which question you are answering) \n",
    "\n",
    "1. how many rows of data do you have?\n",
    "1. What does each row represent?\n",
    "1. Who won more, white or black?\n",
    "1. How many moves per game on average?\n",
    "1. What was the most likely 'first move'?\n",
    "1. How many games end in checkmate? (the alternative is to surrender or timeout)\n",
    "1. What percent of games is that?\n",
    "1. How long was the average game?\n",
    "1. How long was the average game that white won? How long was the average game that was a draw?\n",
    "1. What is an increment code?\n",
    "1. Ask three of your own questions *in writing*. Then answer them. (we write our questions because if you come back later you'll forget what question you were answering)\n"
   ]
  },
  {
   "cell_type": "markdown",
   "metadata": {},
   "source": [
    "write your question after the '####':\n",
    "\n",
    "#### 1: [YOUR QUESTION TITLE HERE]"
   ]
  },
  {
   "cell_type": "code",
   "execution_count": 11,
   "metadata": {},
   "outputs": [
    {
     "data": {
      "text/plain": [
       "id                20058\n",
       "rated             20058\n",
       "created_at        20058\n",
       "last_move_at      20058\n",
       "turns             20058\n",
       "victory_status    20058\n",
       "winner            20058\n",
       "increment_code    20058\n",
       "white_id          20058\n",
       "white_rating      20058\n",
       "black_id          20058\n",
       "black_rating      20058\n",
       "moves             20058\n",
       "opening_eco       20058\n",
       "opening_name      20058\n",
       "opening_ply       20058\n",
       "dtype: int64"
      ]
     },
     "execution_count": 11,
     "metadata": {},
     "output_type": "execute_result"
    }
   ],
   "source": [
    "#  how many rows of data do you have?\n",
    "# write code here:\n",
    "chess = pd.read_csv('data/chess_games.csv')\n",
    "chess.count()\n"
   ]
  },
  {
   "cell_type": "markdown",
   "metadata": {},
   "source": [
    "1. How many rows of data do you have? 20058"
   ]
  },
  {
   "cell_type": "markdown",
   "metadata": {},
   "source": [
    "<details><summary>Solution 1\n",
    "</summary>\n",
    "\n",
    "```python\n",
    "chess = pd.read_csv('data/chess_games.csv')\n",
    "chess.count()\n",
    "```\n",
    "\n",
    "</details>"
   ]
  },
  {
   "cell_type": "markdown",
   "metadata": {},
   "source": [
    "write your question after the '####':\n",
    "\n",
    "#### "
   ]
  },
  {
   "cell_type": "code",
   "execution_count": 9,
   "metadata": {},
   "outputs": [
    {
     "data": {
      "text/html": [
       "<div>\n",
       "<style scoped>\n",
       "    .dataframe tbody tr th:only-of-type {\n",
       "        vertical-align: middle;\n",
       "    }\n",
       "\n",
       "    .dataframe tbody tr th {\n",
       "        vertical-align: top;\n",
       "    }\n",
       "\n",
       "    .dataframe thead th {\n",
       "        text-align: right;\n",
       "    }\n",
       "</style>\n",
       "<table border=\"1\" class=\"dataframe\">\n",
       "  <thead>\n",
       "    <tr style=\"text-align: right;\">\n",
       "      <th></th>\n",
       "      <th>0</th>\n",
       "      <th>1</th>\n",
       "      <th>2</th>\n",
       "      <th>3</th>\n",
       "      <th>4</th>\n",
       "      <th>5</th>\n",
       "      <th>6</th>\n",
       "      <th>7</th>\n",
       "      <th>8</th>\n",
       "      <th>9</th>\n",
       "      <th>...</th>\n",
       "      <th>20048</th>\n",
       "      <th>20049</th>\n",
       "      <th>20050</th>\n",
       "      <th>20051</th>\n",
       "      <th>20052</th>\n",
       "      <th>20053</th>\n",
       "      <th>20054</th>\n",
       "      <th>20055</th>\n",
       "      <th>20056</th>\n",
       "      <th>20057</th>\n",
       "    </tr>\n",
       "  </thead>\n",
       "  <tbody>\n",
       "    <tr>\n",
       "      <th>id</th>\n",
       "      <td>TZJHLljE</td>\n",
       "      <td>l1NXvwaE</td>\n",
       "      <td>mIICvQHh</td>\n",
       "      <td>kWKvrqYL</td>\n",
       "      <td>9tXo1AUZ</td>\n",
       "      <td>MsoDV9wj</td>\n",
       "      <td>qwU9rasv</td>\n",
       "      <td>RVN0N3VK</td>\n",
       "      <td>dwF3DJHO</td>\n",
       "      <td>afoMwnLg</td>\n",
       "      <td>...</td>\n",
       "      <td>dnexZDsv</td>\n",
       "      <td>7IENcPg3</td>\n",
       "      <td>nYOvevdh</td>\n",
       "      <td>uMzb0TPC</td>\n",
       "      <td>EopEqqAa</td>\n",
       "      <td>EfqH7VVH</td>\n",
       "      <td>WSJDhbPl</td>\n",
       "      <td>yrAas0Kj</td>\n",
       "      <td>b0v4tRyF</td>\n",
       "      <td>N8G2JHGG</td>\n",
       "    </tr>\n",
       "    <tr>\n",
       "      <th>rated</th>\n",
       "      <td>False</td>\n",
       "      <td>True</td>\n",
       "      <td>True</td>\n",
       "      <td>True</td>\n",
       "      <td>True</td>\n",
       "      <td>False</td>\n",
       "      <td>True</td>\n",
       "      <td>False</td>\n",
       "      <td>True</td>\n",
       "      <td>True</td>\n",
       "      <td>...</td>\n",
       "      <td>True</td>\n",
       "      <td>True</td>\n",
       "      <td>True</td>\n",
       "      <td>True</td>\n",
       "      <td>True</td>\n",
       "      <td>True</td>\n",
       "      <td>True</td>\n",
       "      <td>True</td>\n",
       "      <td>True</td>\n",
       "      <td>True</td>\n",
       "    </tr>\n",
       "    <tr>\n",
       "      <th>created_at</th>\n",
       "      <td>1504210000000.0</td>\n",
       "      <td>1504130000000.0</td>\n",
       "      <td>1504130000000.0</td>\n",
       "      <td>1504110000000.0</td>\n",
       "      <td>1504030000000.0</td>\n",
       "      <td>1504240000000.0</td>\n",
       "      <td>1504230000000.0</td>\n",
       "      <td>1503680000000.0</td>\n",
       "      <td>1503510000000.0</td>\n",
       "      <td>1503440000000.0</td>\n",
       "      <td>...</td>\n",
       "      <td>1499869487435.0</td>\n",
       "      <td>1499814832472.0</td>\n",
       "      <td>1499814002224.0</td>\n",
       "      <td>1499812466451.0</td>\n",
       "      <td>1499811847779.0</td>\n",
       "      <td>1499790914342.0</td>\n",
       "      <td>1499698089760.0</td>\n",
       "      <td>1499697877493.0</td>\n",
       "      <td>1499696127019.0</td>\n",
       "      <td>1499643152649.0</td>\n",
       "    </tr>\n",
       "    <tr>\n",
       "      <th>last_move_at</th>\n",
       "      <td>1504210000000.0</td>\n",
       "      <td>1504130000000.0</td>\n",
       "      <td>1504130000000.0</td>\n",
       "      <td>1504110000000.0</td>\n",
       "      <td>1504030000000.0</td>\n",
       "      <td>1504240000000.0</td>\n",
       "      <td>1504230000000.0</td>\n",
       "      <td>1503680000000.0</td>\n",
       "      <td>1503510000000.0</td>\n",
       "      <td>1503440000000.0</td>\n",
       "      <td>...</td>\n",
       "      <td>1499869745122.0</td>\n",
       "      <td>1499815248818.0</td>\n",
       "      <td>1499814052544.0</td>\n",
       "      <td>1499813212945.0</td>\n",
       "      <td>1499812436546.0</td>\n",
       "      <td>1499791236076.0</td>\n",
       "      <td>1499698833979.0</td>\n",
       "      <td>1499698050327.0</td>\n",
       "      <td>1499697073718.0</td>\n",
       "      <td>1499643889348.0</td>\n",
       "    </tr>\n",
       "    <tr>\n",
       "      <th>turns</th>\n",
       "      <td>13</td>\n",
       "      <td>16</td>\n",
       "      <td>61</td>\n",
       "      <td>61</td>\n",
       "      <td>95</td>\n",
       "      <td>5</td>\n",
       "      <td>33</td>\n",
       "      <td>9</td>\n",
       "      <td>66</td>\n",
       "      <td>119</td>\n",
       "      <td>...</td>\n",
       "      <td>25</td>\n",
       "      <td>43</td>\n",
       "      <td>9</td>\n",
       "      <td>58</td>\n",
       "      <td>37</td>\n",
       "      <td>24</td>\n",
       "      <td>82</td>\n",
       "      <td>35</td>\n",
       "      <td>109</td>\n",
       "      <td>78</td>\n",
       "    </tr>\n",
       "    <tr>\n",
       "      <th>victory_status</th>\n",
       "      <td>outoftime</td>\n",
       "      <td>resign</td>\n",
       "      <td>mate</td>\n",
       "      <td>mate</td>\n",
       "      <td>mate</td>\n",
       "      <td>draw</td>\n",
       "      <td>resign</td>\n",
       "      <td>resign</td>\n",
       "      <td>resign</td>\n",
       "      <td>mate</td>\n",
       "      <td>...</td>\n",
       "      <td>resign</td>\n",
       "      <td>mate</td>\n",
       "      <td>outoftime</td>\n",
       "      <td>mate</td>\n",
       "      <td>resign</td>\n",
       "      <td>resign</td>\n",
       "      <td>mate</td>\n",
       "      <td>mate</td>\n",
       "      <td>resign</td>\n",
       "      <td>mate</td>\n",
       "    </tr>\n",
       "    <tr>\n",
       "      <th>winner</th>\n",
       "      <td>white</td>\n",
       "      <td>black</td>\n",
       "      <td>white</td>\n",
       "      <td>white</td>\n",
       "      <td>white</td>\n",
       "      <td>draw</td>\n",
       "      <td>white</td>\n",
       "      <td>black</td>\n",
       "      <td>black</td>\n",
       "      <td>white</td>\n",
       "      <td>...</td>\n",
       "      <td>white</td>\n",
       "      <td>white</td>\n",
       "      <td>white</td>\n",
       "      <td>black</td>\n",
       "      <td>white</td>\n",
       "      <td>white</td>\n",
       "      <td>black</td>\n",
       "      <td>white</td>\n",
       "      <td>white</td>\n",
       "      <td>black</td>\n",
       "    </tr>\n",
       "    <tr>\n",
       "      <th>increment_code</th>\n",
       "      <td>15+2</td>\n",
       "      <td>5+10</td>\n",
       "      <td>5+10</td>\n",
       "      <td>20+0</td>\n",
       "      <td>30+3</td>\n",
       "      <td>10+0</td>\n",
       "      <td>10+0</td>\n",
       "      <td>15+30</td>\n",
       "      <td>15+0</td>\n",
       "      <td>10+0</td>\n",
       "      <td>...</td>\n",
       "      <td>10+10</td>\n",
       "      <td>10+0</td>\n",
       "      <td>10+0</td>\n",
       "      <td>10+10</td>\n",
       "      <td>10+10</td>\n",
       "      <td>10+10</td>\n",
       "      <td>10+0</td>\n",
       "      <td>10+0</td>\n",
       "      <td>10+0</td>\n",
       "      <td>10+0</td>\n",
       "    </tr>\n",
       "    <tr>\n",
       "      <th>white_id</th>\n",
       "      <td>bourgris</td>\n",
       "      <td>a-00</td>\n",
       "      <td>ischia</td>\n",
       "      <td>daniamurashov</td>\n",
       "      <td>nik221107</td>\n",
       "      <td>trelynn17</td>\n",
       "      <td>capa_jr</td>\n",
       "      <td>daniel_likes_chess</td>\n",
       "      <td>ehabfanri</td>\n",
       "      <td>daniel_likes_chess</td>\n",
       "      <td>...</td>\n",
       "      <td>mateuslichess</td>\n",
       "      <td>jkubb29</td>\n",
       "      <td>jamboger</td>\n",
       "      <td>samael88</td>\n",
       "      <td>jamboger</td>\n",
       "      <td>belcolt</td>\n",
       "      <td>jamboger</td>\n",
       "      <td>jamboger</td>\n",
       "      <td>marcodisogno</td>\n",
       "      <td>jamboger</td>\n",
       "    </tr>\n",
       "    <tr>\n",
       "      <th>white_rating</th>\n",
       "      <td>1500</td>\n",
       "      <td>1322</td>\n",
       "      <td>1496</td>\n",
       "      <td>1439</td>\n",
       "      <td>1523</td>\n",
       "      <td>1250</td>\n",
       "      <td>1520</td>\n",
       "      <td>1413</td>\n",
       "      <td>1439</td>\n",
       "      <td>1381</td>\n",
       "      <td>...</td>\n",
       "      <td>1252</td>\n",
       "      <td>1328</td>\n",
       "      <td>1243</td>\n",
       "      <td>1237</td>\n",
       "      <td>1219</td>\n",
       "      <td>1691</td>\n",
       "      <td>1233</td>\n",
       "      <td>1219</td>\n",
       "      <td>1360</td>\n",
       "      <td>1235</td>\n",
       "    </tr>\n",
       "    <tr>\n",
       "      <th>black_id</th>\n",
       "      <td>a-00</td>\n",
       "      <td>skinnerua</td>\n",
       "      <td>a-00</td>\n",
       "      <td>adivanov2009</td>\n",
       "      <td>adivanov2009</td>\n",
       "      <td>franklin14532</td>\n",
       "      <td>daniel_likes_chess</td>\n",
       "      <td>soultego</td>\n",
       "      <td>daniel_likes_chess</td>\n",
       "      <td>mirco25</td>\n",
       "      <td>...</td>\n",
       "      <td>jamboger</td>\n",
       "      <td>jamboger</td>\n",
       "      <td>yamaguchipolgar</td>\n",
       "      <td>jamboger</td>\n",
       "      <td>samael88</td>\n",
       "      <td>jamboger</td>\n",
       "      <td>farrukhasomiddinov</td>\n",
       "      <td>schaaksmurf3</td>\n",
       "      <td>jamboger</td>\n",
       "      <td>ffbob</td>\n",
       "    </tr>\n",
       "    <tr>\n",
       "      <th>black_rating</th>\n",
       "      <td>1191</td>\n",
       "      <td>1261</td>\n",
       "      <td>1500</td>\n",
       "      <td>1454</td>\n",
       "      <td>1469</td>\n",
       "      <td>1002</td>\n",
       "      <td>1423</td>\n",
       "      <td>2108</td>\n",
       "      <td>1392</td>\n",
       "      <td>1209</td>\n",
       "      <td>...</td>\n",
       "      <td>1233</td>\n",
       "      <td>1252</td>\n",
       "      <td>1142</td>\n",
       "      <td>1231</td>\n",
       "      <td>1250</td>\n",
       "      <td>1220</td>\n",
       "      <td>1196</td>\n",
       "      <td>1286</td>\n",
       "      <td>1227</td>\n",
       "      <td>1339</td>\n",
       "    </tr>\n",
       "    <tr>\n",
       "      <th>moves</th>\n",
       "      <td>d4 d5 c4 c6 cxd5 e6 dxe6 fxe6 Nf3 Bb4+ Nc3 Ba5...</td>\n",
       "      <td>d4 Nc6 e4 e5 f4 f6 dxe5 fxe5 fxe5 Nxe5 Qd4 Nc6...</td>\n",
       "      <td>e4 e5 d3 d6 Be3 c6 Be2 b5 Nd2 a5 a4 c5 axb5 Nc...</td>\n",
       "      <td>d4 d5 Nf3 Bf5 Nc3 Nf6 Bf4 Ng4 e3 Nc6 Be2 Qd7 O...</td>\n",
       "      <td>e4 e5 Nf3 d6 d4 Nc6 d5 Nb4 a3 Na6 Nc3 Be7 b4 N...</td>\n",
       "      <td>e4 c5 Nf3 Qa5 a3</td>\n",
       "      <td>d4 d5 e4 dxe4 Nc3 Nf6 f3 exf3 Nxf3 Nc6 Bb5 a6 ...</td>\n",
       "      <td>e4 Nc6 d4 e5 d5 Nce7 c3 Ng6 b4</td>\n",
       "      <td>e4 e5 Bc4 Nc6 Nf3 Nd4 d3 Nxf3+ Qxf3 Nf6 h3 Bc5...</td>\n",
       "      <td>e4 d5 exd5 Qxd5 Nc3 Qe5+ Be2 Na6 d4 Qf5 Bxa6 b...</td>\n",
       "      <td>...</td>\n",
       "      <td>e4 e6 d4 d5 exd5 Qxd5 Nc3 Bb4 a3 Bxc3+ bxc3 Ne...</td>\n",
       "      <td>e4 e6 Nf3 d5 Nc3 Bb4 exd5 exd5 d4 Bg4 a3 Bxc3+...</td>\n",
       "      <td>c4 e5 d4 exd4 Qxd4 Nf6 Bg5 Be7 e4</td>\n",
       "      <td>e4 e6 Nf3 d5 Bb5+ Bd7 c4 c6 Ba4 Qa5 b3 b5 cxb5...</td>\n",
       "      <td>c4 e6 d4 b6 Nc3 Bb7 Nf3 g6 h4 Bg7 Bg5 f6 Bf4 d...</td>\n",
       "      <td>d4 f5 e3 e6 Nf3 Nf6 Nc3 b6 Be2 Bb7 O-O Be7 Ne5...</td>\n",
       "      <td>d4 d6 Bf4 e5 Bg3 Nf6 e3 exd4 exd4 d5 c3 Bd6 Bd...</td>\n",
       "      <td>d4 d5 Bf4 Nc6 e3 Nf6 c3 e6 Nf3 Be7 Bd3 O-O Nbd...</td>\n",
       "      <td>e4 d6 d4 Nf6 e5 dxe5 dxe5 Qxd1+ Kxd1 Nd5 c4 Nb...</td>\n",
       "      <td>d4 d5 Bf4 Na6 e3 e6 c3 Nf6 Nf3 Bd7 Nbd2 b5 Bd3...</td>\n",
       "    </tr>\n",
       "    <tr>\n",
       "      <th>opening_eco</th>\n",
       "      <td>D10</td>\n",
       "      <td>B00</td>\n",
       "      <td>C20</td>\n",
       "      <td>D02</td>\n",
       "      <td>C41</td>\n",
       "      <td>B27</td>\n",
       "      <td>D00</td>\n",
       "      <td>B00</td>\n",
       "      <td>C50</td>\n",
       "      <td>B01</td>\n",
       "      <td>...</td>\n",
       "      <td>C01</td>\n",
       "      <td>C00</td>\n",
       "      <td>A20</td>\n",
       "      <td>C00</td>\n",
       "      <td>A40</td>\n",
       "      <td>A80</td>\n",
       "      <td>A41</td>\n",
       "      <td>D00</td>\n",
       "      <td>B07</td>\n",
       "      <td>D00</td>\n",
       "    </tr>\n",
       "    <tr>\n",
       "      <th>opening_name</th>\n",
       "      <td>Slav Defense: Exchange Variation</td>\n",
       "      <td>Nimzowitsch Defense: Kennedy Variation</td>\n",
       "      <td>King's Pawn Game: Leonardis Variation</td>\n",
       "      <td>Queen's Pawn Game: Zukertort Variation</td>\n",
       "      <td>Philidor Defense</td>\n",
       "      <td>Sicilian Defense: Mongoose Variation</td>\n",
       "      <td>Blackmar-Diemer Gambit: Pietrowsky Defense</td>\n",
       "      <td>Nimzowitsch Defense: Kennedy Variation |  Link...</td>\n",
       "      <td>Italian Game: Schilling-Kostic Gambit</td>\n",
       "      <td>Scandinavian Defense: Mieses-Kotroc Variation</td>\n",
       "      <td>...</td>\n",
       "      <td>French Defense: Exchange Variation</td>\n",
       "      <td>French Defense: Two Knights Variation</td>\n",
       "      <td>English Opening: King's English Variation</td>\n",
       "      <td>French Defense: Knight Variation</td>\n",
       "      <td>English Defense</td>\n",
       "      <td>Dutch Defense</td>\n",
       "      <td>Queen's Pawn</td>\n",
       "      <td>Queen's Pawn Game: Mason Attack</td>\n",
       "      <td>Pirc Defense</td>\n",
       "      <td>Queen's Pawn Game: Mason Attack</td>\n",
       "    </tr>\n",
       "    <tr>\n",
       "      <th>opening_ply</th>\n",
       "      <td>5</td>\n",
       "      <td>4</td>\n",
       "      <td>3</td>\n",
       "      <td>3</td>\n",
       "      <td>5</td>\n",
       "      <td>4</td>\n",
       "      <td>10</td>\n",
       "      <td>5</td>\n",
       "      <td>6</td>\n",
       "      <td>4</td>\n",
       "      <td>...</td>\n",
       "      <td>5</td>\n",
       "      <td>5</td>\n",
       "      <td>2</td>\n",
       "      <td>3</td>\n",
       "      <td>4</td>\n",
       "      <td>2</td>\n",
       "      <td>2</td>\n",
       "      <td>3</td>\n",
       "      <td>4</td>\n",
       "      <td>3</td>\n",
       "    </tr>\n",
       "  </tbody>\n",
       "</table>\n",
       "<p>16 rows × 20058 columns</p>\n",
       "</div>"
      ],
      "text/plain": [
       "                                                            0      \\\n",
       "id                                                       TZJHLljE   \n",
       "rated                                                       False   \n",
       "created_at                                        1504210000000.0   \n",
       "last_move_at                                      1504210000000.0   \n",
       "turns                                                          13   \n",
       "victory_status                                          outoftime   \n",
       "winner                                                      white   \n",
       "increment_code                                               15+2   \n",
       "white_id                                                 bourgris   \n",
       "white_rating                                                 1500   \n",
       "black_id                                                     a-00   \n",
       "black_rating                                                 1191   \n",
       "moves           d4 d5 c4 c6 cxd5 e6 dxe6 fxe6 Nf3 Bb4+ Nc3 Ba5...   \n",
       "opening_eco                                                   D10   \n",
       "opening_name                     Slav Defense: Exchange Variation   \n",
       "opening_ply                                                     5   \n",
       "\n",
       "                                                            1      \\\n",
       "id                                                       l1NXvwaE   \n",
       "rated                                                        True   \n",
       "created_at                                        1504130000000.0   \n",
       "last_move_at                                      1504130000000.0   \n",
       "turns                                                          16   \n",
       "victory_status                                             resign   \n",
       "winner                                                      black   \n",
       "increment_code                                               5+10   \n",
       "white_id                                                     a-00   \n",
       "white_rating                                                 1322   \n",
       "black_id                                                skinnerua   \n",
       "black_rating                                                 1261   \n",
       "moves           d4 Nc6 e4 e5 f4 f6 dxe5 fxe5 fxe5 Nxe5 Qd4 Nc6...   \n",
       "opening_eco                                                   B00   \n",
       "opening_name               Nimzowitsch Defense: Kennedy Variation   \n",
       "opening_ply                                                     4   \n",
       "\n",
       "                                                            2      \\\n",
       "id                                                       mIICvQHh   \n",
       "rated                                                        True   \n",
       "created_at                                        1504130000000.0   \n",
       "last_move_at                                      1504130000000.0   \n",
       "turns                                                          61   \n",
       "victory_status                                               mate   \n",
       "winner                                                      white   \n",
       "increment_code                                               5+10   \n",
       "white_id                                                   ischia   \n",
       "white_rating                                                 1496   \n",
       "black_id                                                     a-00   \n",
       "black_rating                                                 1500   \n",
       "moves           e4 e5 d3 d6 Be3 c6 Be2 b5 Nd2 a5 a4 c5 axb5 Nc...   \n",
       "opening_eco                                                   C20   \n",
       "opening_name                King's Pawn Game: Leonardis Variation   \n",
       "opening_ply                                                     3   \n",
       "\n",
       "                                                            3      \\\n",
       "id                                                       kWKvrqYL   \n",
       "rated                                                        True   \n",
       "created_at                                        1504110000000.0   \n",
       "last_move_at                                      1504110000000.0   \n",
       "turns                                                          61   \n",
       "victory_status                                               mate   \n",
       "winner                                                      white   \n",
       "increment_code                                               20+0   \n",
       "white_id                                            daniamurashov   \n",
       "white_rating                                                 1439   \n",
       "black_id                                             adivanov2009   \n",
       "black_rating                                                 1454   \n",
       "moves           d4 d5 Nf3 Bf5 Nc3 Nf6 Bf4 Ng4 e3 Nc6 Be2 Qd7 O...   \n",
       "opening_eco                                                   D02   \n",
       "opening_name               Queen's Pawn Game: Zukertort Variation   \n",
       "opening_ply                                                     3   \n",
       "\n",
       "                                                            4      \\\n",
       "id                                                       9tXo1AUZ   \n",
       "rated                                                        True   \n",
       "created_at                                        1504030000000.0   \n",
       "last_move_at                                      1504030000000.0   \n",
       "turns                                                          95   \n",
       "victory_status                                               mate   \n",
       "winner                                                      white   \n",
       "increment_code                                               30+3   \n",
       "white_id                                                nik221107   \n",
       "white_rating                                                 1523   \n",
       "black_id                                             adivanov2009   \n",
       "black_rating                                                 1469   \n",
       "moves           e4 e5 Nf3 d6 d4 Nc6 d5 Nb4 a3 Na6 Nc3 Be7 b4 N...   \n",
       "opening_eco                                                   C41   \n",
       "opening_name                                     Philidor Defense   \n",
       "opening_ply                                                     5   \n",
       "\n",
       "                                               5      \\\n",
       "id                                          MsoDV9wj   \n",
       "rated                                          False   \n",
       "created_at                           1504240000000.0   \n",
       "last_move_at                         1504240000000.0   \n",
       "turns                                              5   \n",
       "victory_status                                  draw   \n",
       "winner                                          draw   \n",
       "increment_code                                  10+0   \n",
       "white_id                                   trelynn17   \n",
       "white_rating                                    1250   \n",
       "black_id                               franklin14532   \n",
       "black_rating                                    1002   \n",
       "moves                               e4 c5 Nf3 Qa5 a3   \n",
       "opening_eco                                      B27   \n",
       "opening_name    Sicilian Defense: Mongoose Variation   \n",
       "opening_ply                                        4   \n",
       "\n",
       "                                                            6      \\\n",
       "id                                                       qwU9rasv   \n",
       "rated                                                        True   \n",
       "created_at                                        1504230000000.0   \n",
       "last_move_at                                      1504230000000.0   \n",
       "turns                                                          33   \n",
       "victory_status                                             resign   \n",
       "winner                                                      white   \n",
       "increment_code                                               10+0   \n",
       "white_id                                                  capa_jr   \n",
       "white_rating                                                 1520   \n",
       "black_id                                       daniel_likes_chess   \n",
       "black_rating                                                 1423   \n",
       "moves           d4 d5 e4 dxe4 Nc3 Nf6 f3 exf3 Nxf3 Nc6 Bb5 a6 ...   \n",
       "opening_eco                                                   D00   \n",
       "opening_name           Blackmar-Diemer Gambit: Pietrowsky Defense   \n",
       "opening_ply                                                    10   \n",
       "\n",
       "                                                            7      \\\n",
       "id                                                       RVN0N3VK   \n",
       "rated                                                       False   \n",
       "created_at                                        1503680000000.0   \n",
       "last_move_at                                      1503680000000.0   \n",
       "turns                                                           9   \n",
       "victory_status                                             resign   \n",
       "winner                                                      black   \n",
       "increment_code                                              15+30   \n",
       "white_id                                       daniel_likes_chess   \n",
       "white_rating                                                 1413   \n",
       "black_id                                                 soultego   \n",
       "black_rating                                                 2108   \n",
       "moves                              e4 Nc6 d4 e5 d5 Nce7 c3 Ng6 b4   \n",
       "opening_eco                                                   B00   \n",
       "opening_name    Nimzowitsch Defense: Kennedy Variation |  Link...   \n",
       "opening_ply                                                     5   \n",
       "\n",
       "                                                            8      \\\n",
       "id                                                       dwF3DJHO   \n",
       "rated                                                        True   \n",
       "created_at                                        1503510000000.0   \n",
       "last_move_at                                      1503510000000.0   \n",
       "turns                                                          66   \n",
       "victory_status                                             resign   \n",
       "winner                                                      black   \n",
       "increment_code                                               15+0   \n",
       "white_id                                                ehabfanri   \n",
       "white_rating                                                 1439   \n",
       "black_id                                       daniel_likes_chess   \n",
       "black_rating                                                 1392   \n",
       "moves           e4 e5 Bc4 Nc6 Nf3 Nd4 d3 Nxf3+ Qxf3 Nf6 h3 Bc5...   \n",
       "opening_eco                                                   C50   \n",
       "opening_name                Italian Game: Schilling-Kostic Gambit   \n",
       "opening_ply                                                     6   \n",
       "\n",
       "                                                            9      ...  \\\n",
       "id                                                       afoMwnLg  ...   \n",
       "rated                                                        True  ...   \n",
       "created_at                                        1503440000000.0  ...   \n",
       "last_move_at                                      1503440000000.0  ...   \n",
       "turns                                                         119  ...   \n",
       "victory_status                                               mate  ...   \n",
       "winner                                                      white  ...   \n",
       "increment_code                                               10+0  ...   \n",
       "white_id                                       daniel_likes_chess  ...   \n",
       "white_rating                                                 1381  ...   \n",
       "black_id                                                  mirco25  ...   \n",
       "black_rating                                                 1209  ...   \n",
       "moves           e4 d5 exd5 Qxd5 Nc3 Qe5+ Be2 Na6 d4 Qf5 Bxa6 b...  ...   \n",
       "opening_eco                                                   B01  ...   \n",
       "opening_name        Scandinavian Defense: Mieses-Kotroc Variation  ...   \n",
       "opening_ply                                                     4  ...   \n",
       "\n",
       "                                                            20048  \\\n",
       "id                                                       dnexZDsv   \n",
       "rated                                                        True   \n",
       "created_at                                        1499869487435.0   \n",
       "last_move_at                                      1499869745122.0   \n",
       "turns                                                          25   \n",
       "victory_status                                             resign   \n",
       "winner                                                      white   \n",
       "increment_code                                              10+10   \n",
       "white_id                                            mateuslichess   \n",
       "white_rating                                                 1252   \n",
       "black_id                                                 jamboger   \n",
       "black_rating                                                 1233   \n",
       "moves           e4 e6 d4 d5 exd5 Qxd5 Nc3 Bb4 a3 Bxc3+ bxc3 Ne...   \n",
       "opening_eco                                                   C01   \n",
       "opening_name                   French Defense: Exchange Variation   \n",
       "opening_ply                                                     5   \n",
       "\n",
       "                                                            20049  \\\n",
       "id                                                       7IENcPg3   \n",
       "rated                                                        True   \n",
       "created_at                                        1499814832472.0   \n",
       "last_move_at                                      1499815248818.0   \n",
       "turns                                                          43   \n",
       "victory_status                                               mate   \n",
       "winner                                                      white   \n",
       "increment_code                                               10+0   \n",
       "white_id                                                  jkubb29   \n",
       "white_rating                                                 1328   \n",
       "black_id                                                 jamboger   \n",
       "black_rating                                                 1252   \n",
       "moves           e4 e6 Nf3 d5 Nc3 Bb4 exd5 exd5 d4 Bg4 a3 Bxc3+...   \n",
       "opening_eco                                                   C00   \n",
       "opening_name                French Defense: Two Knights Variation   \n",
       "opening_ply                                                     5   \n",
       "\n",
       "                                                    20050  \\\n",
       "id                                               nYOvevdh   \n",
       "rated                                                True   \n",
       "created_at                                1499814002224.0   \n",
       "last_move_at                              1499814052544.0   \n",
       "turns                                                   9   \n",
       "victory_status                                  outoftime   \n",
       "winner                                              white   \n",
       "increment_code                                       10+0   \n",
       "white_id                                         jamboger   \n",
       "white_rating                                         1243   \n",
       "black_id                                  yamaguchipolgar   \n",
       "black_rating                                         1142   \n",
       "moves                   c4 e5 d4 exd4 Qxd4 Nf6 Bg5 Be7 e4   \n",
       "opening_eco                                           A20   \n",
       "opening_name    English Opening: King's English Variation   \n",
       "opening_ply                                             2   \n",
       "\n",
       "                                                            20051  \\\n",
       "id                                                       uMzb0TPC   \n",
       "rated                                                        True   \n",
       "created_at                                        1499812466451.0   \n",
       "last_move_at                                      1499813212945.0   \n",
       "turns                                                          58   \n",
       "victory_status                                               mate   \n",
       "winner                                                      black   \n",
       "increment_code                                              10+10   \n",
       "white_id                                                 samael88   \n",
       "white_rating                                                 1237   \n",
       "black_id                                                 jamboger   \n",
       "black_rating                                                 1231   \n",
       "moves           e4 e6 Nf3 d5 Bb5+ Bd7 c4 c6 Ba4 Qa5 b3 b5 cxb5...   \n",
       "opening_eco                                                   C00   \n",
       "opening_name                     French Defense: Knight Variation   \n",
       "opening_ply                                                     3   \n",
       "\n",
       "                                                            20052  \\\n",
       "id                                                       EopEqqAa   \n",
       "rated                                                        True   \n",
       "created_at                                        1499811847779.0   \n",
       "last_move_at                                      1499812436546.0   \n",
       "turns                                                          37   \n",
       "victory_status                                             resign   \n",
       "winner                                                      white   \n",
       "increment_code                                              10+10   \n",
       "white_id                                                 jamboger   \n",
       "white_rating                                                 1219   \n",
       "black_id                                                 samael88   \n",
       "black_rating                                                 1250   \n",
       "moves           c4 e6 d4 b6 Nc3 Bb7 Nf3 g6 h4 Bg7 Bg5 f6 Bf4 d...   \n",
       "opening_eco                                                   A40   \n",
       "opening_name                                      English Defense   \n",
       "opening_ply                                                     4   \n",
       "\n",
       "                                                            20053  \\\n",
       "id                                                       EfqH7VVH   \n",
       "rated                                                        True   \n",
       "created_at                                        1499790914342.0   \n",
       "last_move_at                                      1499791236076.0   \n",
       "turns                                                          24   \n",
       "victory_status                                             resign   \n",
       "winner                                                      white   \n",
       "increment_code                                              10+10   \n",
       "white_id                                                  belcolt   \n",
       "white_rating                                                 1691   \n",
       "black_id                                                 jamboger   \n",
       "black_rating                                                 1220   \n",
       "moves           d4 f5 e3 e6 Nf3 Nf6 Nc3 b6 Be2 Bb7 O-O Be7 Ne5...   \n",
       "opening_eco                                                   A80   \n",
       "opening_name                                        Dutch Defense   \n",
       "opening_ply                                                     2   \n",
       "\n",
       "                                                            20054  \\\n",
       "id                                                       WSJDhbPl   \n",
       "rated                                                        True   \n",
       "created_at                                        1499698089760.0   \n",
       "last_move_at                                      1499698833979.0   \n",
       "turns                                                          82   \n",
       "victory_status                                               mate   \n",
       "winner                                                      black   \n",
       "increment_code                                               10+0   \n",
       "white_id                                                 jamboger   \n",
       "white_rating                                                 1233   \n",
       "black_id                                       farrukhasomiddinov   \n",
       "black_rating                                                 1196   \n",
       "moves           d4 d6 Bf4 e5 Bg3 Nf6 e3 exd4 exd4 d5 c3 Bd6 Bd...   \n",
       "opening_eco                                                   A41   \n",
       "opening_name                                         Queen's Pawn   \n",
       "opening_ply                                                     2   \n",
       "\n",
       "                                                            20055  \\\n",
       "id                                                       yrAas0Kj   \n",
       "rated                                                        True   \n",
       "created_at                                        1499697877493.0   \n",
       "last_move_at                                      1499698050327.0   \n",
       "turns                                                          35   \n",
       "victory_status                                               mate   \n",
       "winner                                                      white   \n",
       "increment_code                                               10+0   \n",
       "white_id                                                 jamboger   \n",
       "white_rating                                                 1219   \n",
       "black_id                                             schaaksmurf3   \n",
       "black_rating                                                 1286   \n",
       "moves           d4 d5 Bf4 Nc6 e3 Nf6 c3 e6 Nf3 Be7 Bd3 O-O Nbd...   \n",
       "opening_eco                                                   D00   \n",
       "opening_name                      Queen's Pawn Game: Mason Attack   \n",
       "opening_ply                                                     3   \n",
       "\n",
       "                                                            20056  \\\n",
       "id                                                       b0v4tRyF   \n",
       "rated                                                        True   \n",
       "created_at                                        1499696127019.0   \n",
       "last_move_at                                      1499697073718.0   \n",
       "turns                                                         109   \n",
       "victory_status                                             resign   \n",
       "winner                                                      white   \n",
       "increment_code                                               10+0   \n",
       "white_id                                             marcodisogno   \n",
       "white_rating                                                 1360   \n",
       "black_id                                                 jamboger   \n",
       "black_rating                                                 1227   \n",
       "moves           e4 d6 d4 Nf6 e5 dxe5 dxe5 Qxd1+ Kxd1 Nd5 c4 Nb...   \n",
       "opening_eco                                                   B07   \n",
       "opening_name                                         Pirc Defense   \n",
       "opening_ply                                                     4   \n",
       "\n",
       "                                                            20057  \n",
       "id                                                       N8G2JHGG  \n",
       "rated                                                        True  \n",
       "created_at                                        1499643152649.0  \n",
       "last_move_at                                      1499643889348.0  \n",
       "turns                                                          78  \n",
       "victory_status                                               mate  \n",
       "winner                                                      black  \n",
       "increment_code                                               10+0  \n",
       "white_id                                                 jamboger  \n",
       "white_rating                                                 1235  \n",
       "black_id                                                    ffbob  \n",
       "black_rating                                                 1339  \n",
       "moves           d4 d5 Bf4 Na6 e3 e6 c3 Nf6 Nf3 Bd7 Nbd2 b5 Bd3...  \n",
       "opening_eco                                                   D00  \n",
       "opening_name                      Queen's Pawn Game: Mason Attack  \n",
       "opening_ply                                                     3  \n",
       "\n",
       "[16 rows x 20058 columns]"
      ]
     },
     "execution_count": 9,
     "metadata": {},
     "output_type": "execute_result"
    }
   ],
   "source": [
    "# What does each row represent?\n",
    "# write code here:\n",
    "chess['moves']\n",
    "chess['winner']\n",
    "chess['turns']\n",
    "chess['victory_status']\n",
    "chess.T\n"
   ]
  },
  {
   "cell_type": "markdown",
   "metadata": {},
   "source": [
    "2. What does each row represent? The rows show information chess match including games, players, winners of each match"
   ]
  },
  {
   "cell_type": "markdown",
   "metadata": {},
   "source": [
    "<details><summary>Solution 2\n",
    "</summary>\n",
    "\n",
    "```chess['moves']``` shows that we have multiple moves per row. So probably games? Ah, and theres a winner in ```chess['winner']```. Games.\n",
    "    \n",
    "HINT: ```chess.T``` switches rows and columns. (it stands for transpose). Using it allows us to see more of the columns in one look.\n",
    "   \n",
    "```python\n",
    "\n",
    "```\n",
    "\n",
    "</details>"
   ]
  },
  {
   "cell_type": "markdown",
   "metadata": {},
   "source": [
    "write your question after the '####':\n",
    "\n",
    "#### "
   ]
  },
  {
   "cell_type": "code",
   "execution_count": 16,
   "metadata": {},
   "outputs": [
    {
     "data": {
      "text/plain": [
       "<bound method IndexOpsMixin.value_counts of 0        white\n",
       "1        black\n",
       "2        white\n",
       "3        white\n",
       "4        white\n",
       "         ...  \n",
       "20053    white\n",
       "20054    black\n",
       "20055    white\n",
       "20056    white\n",
       "20057    black\n",
       "Name: winner, Length: 20058, dtype: object>"
      ]
     },
     "execution_count": 16,
     "metadata": {},
     "output_type": "execute_result"
    }
   ],
   "source": [
    "# Who won more, white or black?\n",
    "# write code here:\n",
    "chess['winner'].value_counts('white')\n"
   ]
  },
  {
   "cell_type": "markdown",
   "metadata": {},
   "source": [
    "3. Who won more, white or black? white"
   ]
  },
  {
   "cell_type": "code",
   "execution_count": null,
   "metadata": {},
   "outputs": [],
   "source": []
  },
  {
   "cell_type": "markdown",
   "metadata": {},
   "source": [
    "<details><summary>Solution 3\n",
    "</summary>\n",
    "\n",
    "   \n",
    "```python\n",
    "chess['winner'].value_counts()\n",
    "\n",
    "```\n",
    "\n",
    "</details>"
   ]
  },
  {
   "cell_type": "markdown",
   "metadata": {},
   "source": [
    "write your question after the '####':\n",
    "\n",
    "####"
   ]
  },
  {
   "cell_type": "code",
   "execution_count": 17,
   "metadata": {},
   "outputs": [
    {
     "data": {
      "text/plain": [
       "60.46599860404826"
      ]
     },
     "execution_count": 17,
     "metadata": {},
     "output_type": "execute_result"
    }
   ],
   "source": [
    "# How many moves per game on average?\n",
    "# write code here:\n",
    "chess.T\n",
    "chess['moves']\n",
    "chess['winner']\n",
    "chess.moves.apply(lambda x: x.split(' '))\n",
    "chess.moves.apply(lambda x: len(x.split(' ')))\n",
    "chess.moves.apply(lambda x: len(x.split(' '))).mean()"
   ]
  },
  {
   "cell_type": "markdown",
   "metadata": {},
   "source": [
    "4) How many moves per game on average? 60"
   ]
  },
  {
   "cell_type": "markdown",
   "metadata": {},
   "source": [
    "<details><summary>Solution 4\n",
    "</summary>\n",
    "\n",
    "```chess.T``` allows us to see more of the rows.\n",
    "\n",
    "```chess['moves']``` shows that we have multiple moves per row. So probably games? Ah, and theres a winner in ```chess['winner']```. Games.\n",
    "    \n",
    "```python\n",
    "\n",
    ">>> chess.moves.apply(lambda x: x.split(' ')) # shows the items per row in a list\n",
    "\n",
    "0        [d4, d5, c4, c6, cxd5, e6, dxe6, fxe6, Nf3, Bb...\n",
    "1        [d4, Nc6, e4, e5, f4, f6, dxe5, fxe5, fxe5, Nx...\n",
    "2        [e4, e5, d3, d6, Be3, c6, Be2, b5, Nd2, a5, a4...\n",
    "3        [d4, d5, Nf3, Bf5, Nc3, Nf6, Bf4, Ng4, e3, Nc6...\n",
    "4        [e4, e5, Nf3, d6, d4, Nc6, d5, Nb4, a3, Na6, N...\n",
    "                               ...                        \n",
    "\n",
    ">>> chess.moves.apply(lambda x: len(x.split(' '))) # shows the length per list\n",
    "\n",
    "0         13\n",
    "1         16\n",
    "2         61\n",
    "3         61\n",
    "4         95\n",
    "\n",
    ">>> chess.moves.apply(lambda x: len(x.split(' '))).mean() # take the mean\n",
    "60.46599860404826\n",
    "```\n",
    "\n",
    "</details>"
   ]
  },
  {
   "cell_type": "markdown",
   "metadata": {},
   "source": [
    "write your question after the '####':\n",
    "\n",
    "#### "
   ]
  },
  {
   "cell_type": "code",
   "execution_count": 18,
   "metadata": {},
   "outputs": [
    {
     "data": {
      "text/plain": [
       "e4     12598\n",
       "d4      4522\n",
       "Nf3      725\n",
       "c4       716\n",
       "e3       416\n",
       "g3       186\n",
       "b3       173\n",
       "f4       166\n",
       "d3       131\n",
       "Nc3       99\n",
       "b4        88\n",
       "c3        56\n",
       "g4        38\n",
       "h4        33\n",
       "a4        28\n",
       "a3        27\n",
       "f3        23\n",
       "Nh3       15\n",
       "h3        14\n",
       "Na3        4\n",
       "Name: moves, dtype: int64"
      ]
     },
     "execution_count": 18,
     "metadata": {},
     "output_type": "execute_result"
    }
   ],
   "source": [
    "# What is the most common opening move?\n",
    "# write code here:\n",
    "chess.moves.apply(lambda x: x.split(' ')[0]).value_counts()\n"
   ]
  },
  {
   "cell_type": "markdown",
   "metadata": {},
   "source": [
    "5. What was the most likely 'first move'? e4"
   ]
  },
  {
   "cell_type": "code",
   "execution_count": null,
   "metadata": {},
   "outputs": [],
   "source": []
  },
  {
   "cell_type": "markdown",
   "metadata": {},
   "source": [
    "<details><summary>Solution 5\n",
    "</summary>\n",
    "\n",
    "```python\n",
    "chess.moves.apply(lambda x: x.split(' ')[0]).value_counts()\n",
    "```\n",
    "\n",
    "</details>"
   ]
  },
  {
   "cell_type": "markdown",
   "metadata": {},
   "source": [
    "write your question after the '####':\n",
    "\n",
    "#### "
   ]
  },
  {
   "cell_type": "code",
   "execution_count": 19,
   "metadata": {},
   "outputs": [
    {
     "data": {
      "text/plain": [
       "#    6325\n",
       "+    2764\n",
       "5    1890\n",
       "4    1806\n",
       "6    1599\n",
       "3    1466\n",
       "7    1185\n",
       "2    1101\n",
       "1     879\n",
       "8     844\n",
       "Q     130\n",
       "O      62\n",
       "R       4\n",
       "N       2\n",
       "B       1\n",
       "Name: moves, dtype: int64"
      ]
     },
     "execution_count": 19,
     "metadata": {},
     "output_type": "execute_result"
    }
   ],
   "source": [
    "# How many games end in checkmate?\n",
    "# write code here:\n",
    "chess.moves.apply(lambda x: x.split(' ')[-1]).value_counts()\n",
    "chess.moves.apply(lambda x: x.split(' ')[-1][-1]).value_counts()"
   ]
  },
  {
   "cell_type": "markdown",
   "metadata": {},
   "source": [
    "6. How many games end in checkmate? (the alternative is to surrender or timeout) 6325"
   ]
  },
  {
   "cell_type": "code",
   "execution_count": null,
   "metadata": {},
   "outputs": [],
   "source": []
  },
  {
   "cell_type": "markdown",
   "metadata": {},
   "source": [
    "<details><summary>Solution 6\n",
    "</summary>\n",
    "\n",
    "\n",
    "```python\n",
    ">>> chess.moves.apply(lambda x: x.split(' ')[-1]).value_counts()\n",
    "\n",
    "Qxf7#    176\n",
    "Qg7#     170\n",
    "Qg2#     157\n",
    "Qxg2#    141\n",
    "Qxg7#    137\n",
    "        ... \n",
    "Qhh4#      1\n",
    "Bxg6#      1\n",
    "Rxa2+      1\n",
    "Qac8#      1\n",
    "Ngxe3      1\n",
    "\n",
    "# hmm. Now I had to go look up what '#' means. Ok it means Checkmate. So now I grab the end of each string.\n",
    "\n",
    ">>> chess.moves.apply(lambda x: x.split(' ')[-1][-1]).value_counts()\n",
    "\n",
    "#    6325\n",
    "+    2764\n",
    "5    1890\n",
    "4    1806\n",
    "6    1599\n",
    "3    1466\n",
    "7    1185\n",
    "2    1101\n",
    "1     879\n",
    "8     844\n",
    "Q     130\n",
    "O      62\n",
    "R       4\n",
    "N       2\n",
    "B       1\n",
    "\n",
    "```\n",
    "\n",
    "</details>"
   ]
  },
  {
   "cell_type": "code",
   "execution_count": 20,
   "metadata": {},
   "outputs": [
    {
     "data": {
      "text/plain": [
       "#    0.315336\n",
       "+    0.137800\n",
       "5    0.094227\n",
       "4    0.090039\n",
       "6    0.079719\n",
       "3    0.073088\n",
       "7    0.059079\n",
       "2    0.054891\n",
       "1    0.043823\n",
       "8    0.042078\n",
       "Q    0.006481\n",
       "O    0.003091\n",
       "R    0.000199\n",
       "N    0.000100\n",
       "B    0.000050\n",
       "Name: moves, dtype: float64"
      ]
     },
     "execution_count": 20,
     "metadata": {},
     "output_type": "execute_result"
    }
   ],
   "source": [
    "# What percent of games end in checkmate?\n",
    "# write code here:\n",
    "chess.moves.apply(lambda x: x.split(' ')[-1][-1]).value_counts()/len(chess)\n"
   ]
  },
  {
   "cell_type": "markdown",
   "metadata": {},
   "source": [
    "7. What percent of games is that? ~32% (0.315336)"
   ]
  },
  {
   "cell_type": "code",
   "execution_count": null,
   "metadata": {},
   "outputs": [],
   "source": []
  },
  {
   "cell_type": "markdown",
   "metadata": {},
   "source": [
    "<details><summary>Solution 7\n",
    "</summary>\n",
    "\n",
    "\n",
    "```python\n",
    ">>> chess.moves.apply(lambda x: x.split(' ')[-1][-1]).value_counts()/len(chess)\n",
    "\n",
    "#    0.315336\n",
    "+    0.137800\n",
    "5    0.094227\n",
    "4    0.090039\n",
    "6    0.079719\n",
    "3    0.073088\n",
    "7    0.059079\n",
    "2    0.054891\n",
    "1    0.043823\n",
    "8    0.042078\n",
    "Q    0.006481\n",
    "O    0.003091\n",
    "R    0.000199\n",
    "N    0.000100\n",
    "B    0.000050\n",
    "Name: moves, dtype: float64\n",
    "```\n",
    "> 31% of games ended with checkmate, and 13% of games ended with a normal 'check'\n",
    "</details>"
   ]
  },
  {
   "cell_type": "code",
   "execution_count": 21,
   "metadata": {},
   "outputs": [
    {
     "data": {
      "text/plain": [
       "0             0.0\n",
       "1             0.0\n",
       "2             0.0\n",
       "3             0.0\n",
       "4             0.0\n",
       "           ...   \n",
       "20053    321734.0\n",
       "20054    744219.0\n",
       "20055    172834.0\n",
       "20056    946699.0\n",
       "20057    736699.0\n",
       "Length: 20058, dtype: float64"
      ]
     },
     "execution_count": 21,
     "metadata": {},
     "output_type": "execute_result"
    }
   ],
   "source": [
    "# How long was the average game?\n",
    "# write code here:\n",
    "chess['datetime_last_move'] = pd.to_datetime(chess['last_move_at'], unit='ms')\n",
    "chess['datetime_created_at'] = pd.to_datetime(chess['created_at'], unit='ms')\n",
    "chess['datetime_last_move'] - chess['datetime_created_at']\n"
   ]
  },
  {
   "cell_type": "code",
   "execution_count": 25,
   "metadata": {},
   "outputs": [
    {
     "data": {
      "text/plain": [
       "Timedelta('0 days 00:14:29.707049606')"
      ]
     },
     "execution_count": 25,
     "metadata": {},
     "output_type": "execute_result"
    }
   ],
   "source": [
    "chess['datetime_last_move'] = pd.to_datetime(chess['last_move_at'], unit='ms')\n",
    "chess['datetime_created_at'] = pd.to_datetime(chess['created_at'], unit='ms')\n",
    "(chess['datetime_last_move'] - chess['datetime_created_at']).mean()"
   ]
  },
  {
   "cell_type": "code",
   "execution_count": null,
   "metadata": {},
   "outputs": [],
   "source": [
    "8. How long was the average game? 14 minutes, 30 seconds"
   ]
  },
  {
   "cell_type": "markdown",
   "metadata": {},
   "source": [
    "<details><summary>Solution 8\n",
    "</summary>\n",
    "\n",
    "```python\n",
    ">>> chess['last_move_at'] - chess['created_at']\n",
    "\n",
    "0             0.0\n",
    "1             0.0\n",
    "2             0.0\n",
    "3             0.0\n",
    "4             0.0\n",
    "           ...   \n",
    "20053    321734.0\n",
    "20054    744219.0\n",
    "20055    172834.0\n",
    "20056    946699.0\n",
    "20057    736699.0\n",
    "Length: 20058, dtype: float64\n",
    "\n",
    "# hmmm. This gives a bunch of... nanoseconds? miliseconds?\"\n",
    "\n",
    "# I netter google 'how to go from milliseconds to pandas datetime.'\n",
    "# I click stack overflow, The first suggestion (and always a good bet).\n",
    "# First answer says pd.to_datetime(df['UNIXTIME'], unit='ms')\n",
    "# Lets try that.\n",
    "\n",
    "\n",
    ">>> pd.to_datetime(chess['datetime_created_at'], unit='ms')\n",
    "\n",
    "0       2017-08-31 20:06:40.000000000\n",
    "1       2017-08-30 21:53:20.000000000\n",
    "2       2017-08-30 21:53:20.000000000\n",
    "3       2017-08-30 16:20:00.000000000\n",
    "4       2017-08-29 18:06:40.000000000\n",
    "                     ...             \n",
    "20053   2017-07-11 16:35:14.342000128\n",
    "20054   2017-07-10 14:48:09.760000000\n",
    "20055   2017-07-10 14:44:37.492999936\n",
    "20056   2017-07-10 14:15:27.019000064\n",
    "20057   2017-07-09 23:32:32.648999936\n",
    "Name: datetime_created_at, Length: 20058, dtype: datetime64[ns]\n",
    "\n",
    "That looks reasonable\n",
    "\n",
    ">>> chess['datetime_last_move'] = pd.to_datetime(chess['last_move_at'], unit='ms')\n",
    ">>> chess['datetime_created_at'] = pd.to_datetime(chess['created_at'], unit='ms')\n",
    ">>> chess['datetime_last_move'] - chess['datetime_created_at']\n",
    "\n",
    "0              00:00:00\n",
    "1              00:00:00\n",
    "2              00:00:00\n",
    "3              00:00:00\n",
    "4              00:00:00\n",
    "              ...      \n",
    "20053   00:05:21.734000\n",
    "20054   00:12:24.219000\n",
    "20055   00:02:52.834000\n",
    "20056   00:15:46.699000\n",
    "20057   00:12:16.699000\n",
    "Length: 20058, dtype: timedelta64[ns]\n",
    "\n",
    "\n",
    ">>> (chess['datetime_last_move'] - chess['datetime_created_at']).mean()\n",
    "\n",
    "Timedelta('0 days 00:14:29.707049')\n",
    "\n",
    "# looks like the average game is '14 minutes, 30 seconds'\n",
    "\n",
    "```\n",
    "\n",
    "</details>"
   ]
  },
  {
   "cell_type": "code",
   "execution_count": 26,
   "metadata": {},
   "outputs": [
    {
     "data": {
      "text/plain": [
       "winner\n",
       "black   1970-01-01 00:13:54.751459317\n",
       "draw    1970-01-01 00:23:18.628142105\n",
       "white   1970-01-01 00:14:11.295443055\n",
       "Name: game_ms, dtype: datetime64[ns]"
      ]
     },
     "execution_count": 26,
     "metadata": {},
     "output_type": "execute_result"
    }
   ],
   "source": [
    "# How long was the average game that white won? How long was the average game that was a draw?\n",
    "# write code here:\n",
    "chess['game_ms'] = chess['last_move_at'] - chess['created_at']\n",
    "pd.to_datetime(chess.groupby('winner').mean()['game_ms'], unit='ms')\n"
   ]
  },
  {
   "cell_type": "markdown",
   "metadata": {},
   "source": [
    "9. How long was the average game that white won? 14 minutes, 11 seconds\n",
    "How long was the average game that was a draw? 23 minutes, 18 seconds"
   ]
  },
  {
   "cell_type": "code",
   "execution_count": null,
   "metadata": {},
   "outputs": [],
   "source": []
  },
  {
   "cell_type": "markdown",
   "metadata": {},
   "source": [
    "<details><summary>Solution 9\n",
    "</summary>\n",
    "\n",
    "\n",
    "```python\n",
    "# this one was hard for me because\n",
    "chess.groupby('winner').mean()\n",
    "# Doesn't return our column! Bleh!\n",
    "\n",
    "# but this works\n",
    "chess[chess['winner']=='white'].mean()\n",
    "\n",
    "# and so does this\n",
    "chess['game_ms'] = chess['last_move_at'] - chess['created_at']\n",
    "pd.to_datetime(chess.groupby('winner').mean()['game_ms'], unit='ms')\n",
    "```\n",
    "    \n",
    "</details>"
   ]
  },
  {
   "cell_type": "code",
   "execution_count": null,
   "metadata": {},
   "outputs": [],
   "source": [
    "# write code here:\n",
    "\n"
   ]
  },
  {
   "cell_type": "code",
   "execution_count": null,
   "metadata": {},
   "outputs": [],
   "source": []
  },
  {
   "cell_type": "code",
   "execution_count": null,
   "metadata": {},
   "outputs": [],
   "source": [
    "# What is the increment code? Do not not know what this question is referring?"
   ]
  },
  {
   "cell_type": "markdown",
   "metadata": {},
   "source": [
    "<details><summary> Solution 10\n",
    "</summary>\n",
    "\n",
    "google 'increment code chess':\n",
    "\n",
    "\"increment (in seconds) is the amount added after each move.\"\n",
    "\n",
    "</details>"
   ]
  },
  {
   "cell_type": "markdown",
   "metadata": {},
   "source": [
    "Now do your own! Make them headers, in markdown, in writing!"
   ]
  },
  {
   "cell_type": "markdown",
   "metadata": {},
   "source": [
    "How many chess matches did skinnerua compete?"
   ]
  },
  {
   "cell_type": "code",
   "execution_count": 33,
   "metadata": {},
   "outputs": [
    {
     "data": {
      "text/plain": [
       "taranga          0.003590\n",
       "chess-brahs      0.002642\n",
       "a_p_t_e_m_u_u    0.002443\n",
       "bleda            0.002393\n",
       "ssf7             0.002393\n",
       "                   ...   \n",
       "zzzimon          0.000050\n",
       "chessplay77      0.000050\n",
       "mkmarijan        0.000050\n",
       "nicomoli         0.000050\n",
       "tomazkrampf      0.000050\n",
       "Name: white_id, Length: 9438, dtype: float64"
      ]
     },
     "execution_count": 33,
     "metadata": {},
     "output_type": "execute_result"
    }
   ],
   "source": [
    "chess['black_id'].value_counts('skinnerua')\n",
    "chess['white_id'].value_counts('skinnerua')\n"
   ]
  },
  {
   "cell_type": "code",
   "execution_count": 33,
   "metadata": {},
   "outputs": [
    {
     "data": {
      "text/plain": [
       "taranga          0.003590\n",
       "chess-brahs      0.002642\n",
       "a_p_t_e_m_u_u    0.002443\n",
       "bleda            0.002393\n",
       "ssf7             0.002393\n",
       "                   ...   \n",
       "zzzimon          0.000050\n",
       "chessplay77      0.000050\n",
       "mkmarijan        0.000050\n",
       "nicomoli         0.000050\n",
       "tomazkrampf      0.000050\n",
       "Name: white_id, Length: 9438, dtype: float64"
      ]
     },
     "execution_count": 33,
     "metadata": {},
     "output_type": "execute_result"
    }
   ],
   "source": [
    "chess['black_id'].value_counts('skinnerua')\n",
    "chess['white_id'].value_counts('skinnerua')\n"
   ]
  },
  {
   "cell_type": "code",
   "execution_count": 37,
   "metadata": {},
   "outputs": [
    {
     "name": "stdout",
     "output_type": "stream",
     "text": [
      "taranga               0.004088\n",
      "vladimir-kramnik-1    0.002991\n",
      "a_p_t_e_m_u_u         0.002343\n",
      "king5891              0.002194\n",
      "docboss               0.002194\n",
      "                        ...   \n",
      "stob1                 0.000050\n",
      "eitaho                0.000050\n",
      "i_see_u               0.000050\n",
      "arrchess              0.000050\n",
      "gideoni               0.000050\n",
      "Name: black_id, Length: 9331, dtype: float64\n",
      "taranga          0.003590\n",
      "chess-brahs      0.002642\n",
      "a_p_t_e_m_u_u    0.002443\n",
      "bleda            0.002393\n",
      "ssf7             0.002393\n",
      "                   ...   \n",
      "zzzimon          0.000050\n",
      "chessplay77      0.000050\n",
      "mkmarijan        0.000050\n",
      "nicomoli         0.000050\n",
      "tomazkrampf      0.000050\n",
      "Name: white_id, Length: 9438, dtype: float64\n"
     ]
    }
   ],
   "source": [
    "skinnerua_black = chess['black_id'].value_counts('skinnerua')\n",
    "skinnerua_white = chess['white_id'].value_counts('skinnerua')\n",
    "print(skinnerua_black)\n",
    "print(skinnerua_white)"
   ]
  },
  {
   "cell_type": "code",
   "execution_count": 39,
   "metadata": {},
   "outputs": [
    {
     "data": {
      "text/plain": [
       "18769"
      ]
     },
     "execution_count": 39,
     "metadata": {},
     "output_type": "execute_result"
    }
   ],
   "source": [
    "9331 + 9438"
   ]
  },
  {
   "cell_type": "code",
   "execution_count": null,
   "metadata": {},
   "outputs": [],
   "source": [
    "How many chess matches did skinnerua compete? 18769 chess matches"
   ]
  },
  {
   "cell_type": "markdown",
   "metadata": {},
   "source": [
    "How many chess matches open with Slav Defense: Exchange Variation?"
   ]
  },
  {
   "cell_type": "code",
   "execution_count": 34,
   "metadata": {},
   "outputs": [
    {
     "data": {
      "text/plain": [
       "Van't Kruijs Opening                                                 0.018347\n",
       "Sicilian Defense                                                     0.017848\n",
       "Sicilian Defense: Bowdler Attack                                     0.014757\n",
       "French Defense: Knight Variation                                     0.013511\n",
       "Scotch Game                                                          0.013511\n",
       "                                                                       ...   \n",
       "Modern Defense: Lizard Defense |  Mittenberger Gambit                0.000050\n",
       "Queen's Gambit Declined: Alapin Variation                            0.000050\n",
       "Queen's Indian Defense: Classical Variation |  Polugaevsky Gambit    0.000050\n",
       "Polish Opening: Grigorian Variation                                  0.000050\n",
       "Benko Gambit Accepted |  Yugoslav |  without 7...Bxf1                0.000050\n",
       "Name: opening_name, Length: 1477, dtype: float64"
      ]
     },
     "execution_count": 34,
     "metadata": {},
     "output_type": "execute_result"
    }
   ],
   "source": [
    "chess['opening_name'].value_counts('Slav Defense: Exchange Variation')"
   ]
  },
  {
   "cell_type": "markdown",
   "metadata": {},
   "source": [
    "How many chess matches open with Slav Defense: Exchange Variation? 1477 chess matches"
   ]
  },
  {
   "cell_type": "markdown",
   "metadata": {},
   "source": [
    "What is the difference in turns between the shortest and longest chess matches?"
   ]
  },
  {
   "cell_type": "code",
   "execution_count": null,
   "metadata": {},
   "outputs": [],
   "source": []
  },
  {
   "cell_type": "markdown",
   "metadata": {},
   "source": [
    "### Question:\n",
    "\n",
    "Now let's put these skills together AGAIN in the way we would typically explore data. This is called EDA. Exploratory Data Analysis.\n",
    "\n",
    "Open exo.csv, skim https://exoplanetarchive.ipac.caltech.edu/docs/API_kepcandidate_columns.html and answer these questions.\n",
    "\n",
    "\n",
    "This time write your own markdown headers before you answer each question!\n",
    "\n",
    "1. how many rows of data do you have?\n",
    "1. What does each row represent?\n",
    "1. How many planets are confirmed?\n",
    "1. What is the maximum temperature of the planets?\n",
    "1. What is the maximum temperature of the stars?\n",
    "1. What is the distance between the planet and the star?\n",
    "1. How many planets are in each system?\n",
    "1. How much does the planet temperatures vary?\n",
    "1. How much does the star temperatures vary?\n",
    "1. How many NaNs are in each category?\n",
    "1. Ask three of your own questions *in writing*. Then answer them. (we write our questions because if you come back later you'll foget what question you were answering)\n"
   ]
  },
  {
   "cell_type": "markdown",
   "metadata": {},
   "source": [
    "No solutions provided. You got this."
   ]
  },
  {
   "cell_type": "code",
   "execution_count": 43,
   "metadata": {},
   "outputs": [
    {
     "ename": "FileNotFoundError",
     "evalue": "[Errno 2] No such file or directory: 'data/exo.csv'",
     "output_type": "error",
     "traceback": [
      "\u001b[0;31m---------------------------------------------------------------------------\u001b[0m",
      "\u001b[0;31mFileNotFoundError\u001b[0m                         Traceback (most recent call last)",
      "\u001b[0;32m<ipython-input-43-249fbe75f3fa>\u001b[0m in \u001b[0;36m<module>\u001b[0;34m\u001b[0m\n\u001b[0;32m----> 1\u001b[0;31m \u001b[0mexo\u001b[0m \u001b[0;34m=\u001b[0m \u001b[0mpd\u001b[0m\u001b[0;34m.\u001b[0m\u001b[0mread_csv\u001b[0m\u001b[0;34m(\u001b[0m\u001b[0;34m'data/exo.csv'\u001b[0m\u001b[0;34m)\u001b[0m\u001b[0;34m\u001b[0m\u001b[0;34m\u001b[0m\u001b[0m\n\u001b[0m\u001b[1;32m      2\u001b[0m \u001b[0mexo\u001b[0m\u001b[0;34m.\u001b[0m\u001b[0mcount\u001b[0m\u001b[0;34m(\u001b[0m\u001b[0;34m)\u001b[0m\u001b[0;34m\u001b[0m\u001b[0;34m\u001b[0m\u001b[0m\n",
      "\u001b[0;32m~/opt/anaconda3/lib/python3.8/site-packages/pandas/io/parsers.py\u001b[0m in \u001b[0;36mread_csv\u001b[0;34m(filepath_or_buffer, sep, delimiter, header, names, index_col, usecols, squeeze, prefix, mangle_dupe_cols, dtype, engine, converters, true_values, false_values, skipinitialspace, skiprows, skipfooter, nrows, na_values, keep_default_na, na_filter, verbose, skip_blank_lines, parse_dates, infer_datetime_format, keep_date_col, date_parser, dayfirst, cache_dates, iterator, chunksize, compression, thousands, decimal, lineterminator, quotechar, quoting, doublequote, escapechar, comment, encoding, dialect, error_bad_lines, warn_bad_lines, delim_whitespace, low_memory, memory_map, float_precision, storage_options)\u001b[0m\n\u001b[1;32m    608\u001b[0m     \u001b[0mkwds\u001b[0m\u001b[0;34m.\u001b[0m\u001b[0mupdate\u001b[0m\u001b[0;34m(\u001b[0m\u001b[0mkwds_defaults\u001b[0m\u001b[0;34m)\u001b[0m\u001b[0;34m\u001b[0m\u001b[0;34m\u001b[0m\u001b[0m\n\u001b[1;32m    609\u001b[0m \u001b[0;34m\u001b[0m\u001b[0m\n\u001b[0;32m--> 610\u001b[0;31m     \u001b[0;32mreturn\u001b[0m \u001b[0m_read\u001b[0m\u001b[0;34m(\u001b[0m\u001b[0mfilepath_or_buffer\u001b[0m\u001b[0;34m,\u001b[0m \u001b[0mkwds\u001b[0m\u001b[0;34m)\u001b[0m\u001b[0;34m\u001b[0m\u001b[0;34m\u001b[0m\u001b[0m\n\u001b[0m\u001b[1;32m    611\u001b[0m \u001b[0;34m\u001b[0m\u001b[0m\n\u001b[1;32m    612\u001b[0m \u001b[0;34m\u001b[0m\u001b[0m\n",
      "\u001b[0;32m~/opt/anaconda3/lib/python3.8/site-packages/pandas/io/parsers.py\u001b[0m in \u001b[0;36m_read\u001b[0;34m(filepath_or_buffer, kwds)\u001b[0m\n\u001b[1;32m    460\u001b[0m \u001b[0;34m\u001b[0m\u001b[0m\n\u001b[1;32m    461\u001b[0m     \u001b[0;31m# Create the parser.\u001b[0m\u001b[0;34m\u001b[0m\u001b[0;34m\u001b[0m\u001b[0;34m\u001b[0m\u001b[0m\n\u001b[0;32m--> 462\u001b[0;31m     \u001b[0mparser\u001b[0m \u001b[0;34m=\u001b[0m \u001b[0mTextFileReader\u001b[0m\u001b[0;34m(\u001b[0m\u001b[0mfilepath_or_buffer\u001b[0m\u001b[0;34m,\u001b[0m \u001b[0;34m**\u001b[0m\u001b[0mkwds\u001b[0m\u001b[0;34m)\u001b[0m\u001b[0;34m\u001b[0m\u001b[0;34m\u001b[0m\u001b[0m\n\u001b[0m\u001b[1;32m    463\u001b[0m \u001b[0;34m\u001b[0m\u001b[0m\n\u001b[1;32m    464\u001b[0m     \u001b[0;32mif\u001b[0m \u001b[0mchunksize\u001b[0m \u001b[0;32mor\u001b[0m \u001b[0miterator\u001b[0m\u001b[0;34m:\u001b[0m\u001b[0;34m\u001b[0m\u001b[0;34m\u001b[0m\u001b[0m\n",
      "\u001b[0;32m~/opt/anaconda3/lib/python3.8/site-packages/pandas/io/parsers.py\u001b[0m in \u001b[0;36m__init__\u001b[0;34m(self, f, engine, **kwds)\u001b[0m\n\u001b[1;32m    817\u001b[0m             \u001b[0mself\u001b[0m\u001b[0;34m.\u001b[0m\u001b[0moptions\u001b[0m\u001b[0;34m[\u001b[0m\u001b[0;34m\"has_index_names\"\u001b[0m\u001b[0;34m]\u001b[0m \u001b[0;34m=\u001b[0m \u001b[0mkwds\u001b[0m\u001b[0;34m[\u001b[0m\u001b[0;34m\"has_index_names\"\u001b[0m\u001b[0;34m]\u001b[0m\u001b[0;34m\u001b[0m\u001b[0;34m\u001b[0m\u001b[0m\n\u001b[1;32m    818\u001b[0m \u001b[0;34m\u001b[0m\u001b[0m\n\u001b[0;32m--> 819\u001b[0;31m         \u001b[0mself\u001b[0m\u001b[0;34m.\u001b[0m\u001b[0m_engine\u001b[0m \u001b[0;34m=\u001b[0m \u001b[0mself\u001b[0m\u001b[0;34m.\u001b[0m\u001b[0m_make_engine\u001b[0m\u001b[0;34m(\u001b[0m\u001b[0mself\u001b[0m\u001b[0;34m.\u001b[0m\u001b[0mengine\u001b[0m\u001b[0;34m)\u001b[0m\u001b[0;34m\u001b[0m\u001b[0;34m\u001b[0m\u001b[0m\n\u001b[0m\u001b[1;32m    820\u001b[0m \u001b[0;34m\u001b[0m\u001b[0m\n\u001b[1;32m    821\u001b[0m     \u001b[0;32mdef\u001b[0m \u001b[0mclose\u001b[0m\u001b[0;34m(\u001b[0m\u001b[0mself\u001b[0m\u001b[0;34m)\u001b[0m\u001b[0;34m:\u001b[0m\u001b[0;34m\u001b[0m\u001b[0;34m\u001b[0m\u001b[0m\n",
      "\u001b[0;32m~/opt/anaconda3/lib/python3.8/site-packages/pandas/io/parsers.py\u001b[0m in \u001b[0;36m_make_engine\u001b[0;34m(self, engine)\u001b[0m\n\u001b[1;32m   1048\u001b[0m             )\n\u001b[1;32m   1049\u001b[0m         \u001b[0;31m# error: Too many arguments for \"ParserBase\"\u001b[0m\u001b[0;34m\u001b[0m\u001b[0;34m\u001b[0m\u001b[0;34m\u001b[0m\u001b[0m\n\u001b[0;32m-> 1050\u001b[0;31m         \u001b[0;32mreturn\u001b[0m \u001b[0mmapping\u001b[0m\u001b[0;34m[\u001b[0m\u001b[0mengine\u001b[0m\u001b[0;34m]\u001b[0m\u001b[0;34m(\u001b[0m\u001b[0mself\u001b[0m\u001b[0;34m.\u001b[0m\u001b[0mf\u001b[0m\u001b[0;34m,\u001b[0m \u001b[0;34m**\u001b[0m\u001b[0mself\u001b[0m\u001b[0;34m.\u001b[0m\u001b[0moptions\u001b[0m\u001b[0;34m)\u001b[0m  \u001b[0;31m# type: ignore[call-arg]\u001b[0m\u001b[0;34m\u001b[0m\u001b[0;34m\u001b[0m\u001b[0m\n\u001b[0m\u001b[1;32m   1051\u001b[0m \u001b[0;34m\u001b[0m\u001b[0m\n\u001b[1;32m   1052\u001b[0m     \u001b[0;32mdef\u001b[0m \u001b[0m_failover_to_python\u001b[0m\u001b[0;34m(\u001b[0m\u001b[0mself\u001b[0m\u001b[0;34m)\u001b[0m\u001b[0;34m:\u001b[0m\u001b[0;34m\u001b[0m\u001b[0;34m\u001b[0m\u001b[0m\n",
      "\u001b[0;32m~/opt/anaconda3/lib/python3.8/site-packages/pandas/io/parsers.py\u001b[0m in \u001b[0;36m__init__\u001b[0;34m(self, src, **kwds)\u001b[0m\n\u001b[1;32m   1865\u001b[0m \u001b[0;34m\u001b[0m\u001b[0m\n\u001b[1;32m   1866\u001b[0m         \u001b[0;31m# open handles\u001b[0m\u001b[0;34m\u001b[0m\u001b[0;34m\u001b[0m\u001b[0;34m\u001b[0m\u001b[0m\n\u001b[0;32m-> 1867\u001b[0;31m         \u001b[0mself\u001b[0m\u001b[0;34m.\u001b[0m\u001b[0m_open_handles\u001b[0m\u001b[0;34m(\u001b[0m\u001b[0msrc\u001b[0m\u001b[0;34m,\u001b[0m \u001b[0mkwds\u001b[0m\u001b[0;34m)\u001b[0m\u001b[0;34m\u001b[0m\u001b[0;34m\u001b[0m\u001b[0m\n\u001b[0m\u001b[1;32m   1868\u001b[0m         \u001b[0;32massert\u001b[0m \u001b[0mself\u001b[0m\u001b[0;34m.\u001b[0m\u001b[0mhandles\u001b[0m \u001b[0;32mis\u001b[0m \u001b[0;32mnot\u001b[0m \u001b[0;32mNone\u001b[0m\u001b[0;34m\u001b[0m\u001b[0;34m\u001b[0m\u001b[0m\n\u001b[1;32m   1869\u001b[0m         \u001b[0;32mfor\u001b[0m \u001b[0mkey\u001b[0m \u001b[0;32min\u001b[0m \u001b[0;34m(\u001b[0m\u001b[0;34m\"storage_options\"\u001b[0m\u001b[0;34m,\u001b[0m \u001b[0;34m\"encoding\"\u001b[0m\u001b[0;34m,\u001b[0m \u001b[0;34m\"memory_map\"\u001b[0m\u001b[0;34m,\u001b[0m \u001b[0;34m\"compression\"\u001b[0m\u001b[0;34m)\u001b[0m\u001b[0;34m:\u001b[0m\u001b[0;34m\u001b[0m\u001b[0;34m\u001b[0m\u001b[0m\n",
      "\u001b[0;32m~/opt/anaconda3/lib/python3.8/site-packages/pandas/io/parsers.py\u001b[0m in \u001b[0;36m_open_handles\u001b[0;34m(self, src, kwds)\u001b[0m\n\u001b[1;32m   1360\u001b[0m         \u001b[0mLet\u001b[0m \u001b[0mthe\u001b[0m \u001b[0mreaders\u001b[0m \u001b[0mopen\u001b[0m \u001b[0mIOHanldes\u001b[0m \u001b[0mafter\u001b[0m \u001b[0mthey\u001b[0m \u001b[0mare\u001b[0m \u001b[0mdone\u001b[0m \u001b[0;32mwith\u001b[0m \u001b[0mtheir\u001b[0m \u001b[0mpotential\u001b[0m \u001b[0mraises\u001b[0m\u001b[0;34m.\u001b[0m\u001b[0;34m\u001b[0m\u001b[0;34m\u001b[0m\u001b[0m\n\u001b[1;32m   1361\u001b[0m         \"\"\"\n\u001b[0;32m-> 1362\u001b[0;31m         self.handles = get_handle(\n\u001b[0m\u001b[1;32m   1363\u001b[0m             \u001b[0msrc\u001b[0m\u001b[0;34m,\u001b[0m\u001b[0;34m\u001b[0m\u001b[0;34m\u001b[0m\u001b[0m\n\u001b[1;32m   1364\u001b[0m             \u001b[0;34m\"r\"\u001b[0m\u001b[0;34m,\u001b[0m\u001b[0;34m\u001b[0m\u001b[0;34m\u001b[0m\u001b[0m\n",
      "\u001b[0;32m~/opt/anaconda3/lib/python3.8/site-packages/pandas/io/common.py\u001b[0m in \u001b[0;36mget_handle\u001b[0;34m(path_or_buf, mode, encoding, compression, memory_map, is_text, errors, storage_options)\u001b[0m\n\u001b[1;32m    640\u001b[0m                 \u001b[0merrors\u001b[0m \u001b[0;34m=\u001b[0m \u001b[0;34m\"replace\"\u001b[0m\u001b[0;34m\u001b[0m\u001b[0;34m\u001b[0m\u001b[0m\n\u001b[1;32m    641\u001b[0m             \u001b[0;31m# Encoding\u001b[0m\u001b[0;34m\u001b[0m\u001b[0;34m\u001b[0m\u001b[0;34m\u001b[0m\u001b[0m\n\u001b[0;32m--> 642\u001b[0;31m             handle = open(\n\u001b[0m\u001b[1;32m    643\u001b[0m                 \u001b[0mhandle\u001b[0m\u001b[0;34m,\u001b[0m\u001b[0;34m\u001b[0m\u001b[0;34m\u001b[0m\u001b[0m\n\u001b[1;32m    644\u001b[0m                 \u001b[0mioargs\u001b[0m\u001b[0;34m.\u001b[0m\u001b[0mmode\u001b[0m\u001b[0;34m,\u001b[0m\u001b[0;34m\u001b[0m\u001b[0;34m\u001b[0m\u001b[0m\n",
      "\u001b[0;31mFileNotFoundError\u001b[0m: [Errno 2] No such file or directory: 'data/exo.csv'"
     ]
    }
   ],
   "source": [
    "exo = pd.read_csv('data/exo.csv')\n",
    "exo.count()"
   ]
  },
  {
   "cell_type": "code",
   "execution_count": 44,
   "metadata": {},
   "outputs": [],
   "source": [
    "import pandas as pd\n",
    "exo = pd.read_csv('data/exo.csv')\n",
    "exo.count()"
   ]
  },
  {
   "cell_type": "markdown",
   "metadata": {},
   "source": [
    "1. How many rows of data do you have?"
   ]
  },
  {
   "cell_type": "code",
   "execution_count": null,
   "metadata": {},
   "outputs": [],
   "source": []
  },
  {
   "cell_type": "code",
   "execution_count": null,
   "metadata": {},
   "outputs": [],
   "source": [
    "2. What does each row represent?"
   ]
  },
  {
   "cell_type": "code",
   "execution_count": null,
   "metadata": {},
   "outputs": [],
   "source": []
  },
  {
   "cell_type": "code",
   "execution_count": null,
   "metadata": {},
   "outputs": [],
   "source": [
    "3. How many planets are confirmed?"
   ]
  },
  {
   "cell_type": "code",
   "execution_count": null,
   "metadata": {},
   "outputs": [],
   "source": []
  },
  {
   "cell_type": "code",
   "execution_count": null,
   "metadata": {},
   "outputs": [],
   "source": [
    "4. What is the maximum temperature of the planets?"
   ]
  },
  {
   "cell_type": "code",
   "execution_count": null,
   "metadata": {},
   "outputs": [],
   "source": []
  },
  {
   "cell_type": "markdown",
   "metadata": {},
   "source": [
    "5. What is the maximum temperature of the stars?"
   ]
  },
  {
   "cell_type": "code",
   "execution_count": null,
   "metadata": {},
   "outputs": [],
   "source": []
  },
  {
   "cell_type": "code",
   "execution_count": null,
   "metadata": {},
   "outputs": [],
   "source": [
    "6. What is the distance between the planet and the star?"
   ]
  },
  {
   "cell_type": "code",
   "execution_count": null,
   "metadata": {},
   "outputs": [],
   "source": []
  },
  {
   "cell_type": "code",
   "execution_count": null,
   "metadata": {},
   "outputs": [],
   "source": [
    "7. How many planets are in each system?"
   ]
  },
  {
   "cell_type": "code",
   "execution_count": null,
   "metadata": {},
   "outputs": [],
   "source": []
  },
  {
   "cell_type": "code",
   "execution_count": null,
   "metadata": {},
   "outputs": [],
   "source": [
    "8. How much does the planet temperatures vary?"
   ]
  },
  {
   "cell_type": "code",
   "execution_count": null,
   "metadata": {},
   "outputs": [],
   "source": []
  },
  {
   "cell_type": "code",
   "execution_count": null,
   "metadata": {},
   "outputs": [],
   "source": [
    "9. How much does the star temperatures vary?"
   ]
  },
  {
   "cell_type": "code",
   "execution_count": null,
   "metadata": {},
   "outputs": [],
   "source": []
  },
  {
   "cell_type": "code",
   "execution_count": null,
   "metadata": {},
   "outputs": [],
   "source": [
    "10. "
   ]
  }
 ],
 "metadata": {
  "anaconda-cloud": {},
  "kernelspec": {
   "display_name": "Python 3",
   "language": "python",
   "name": "python3"
  },
  "language_info": {
   "codemirror_mode": {
    "name": "ipython",
    "version": 3
   },
   "file_extension": ".py",
   "mimetype": "text/x-python",
   "name": "python",
   "nbconvert_exporter": "python",
   "pygments_lexer": "ipython3",
   "version": "3.8.8"
  },
  "toc": {
   "base_numbering": 1,
   "nav_menu": {},
   "number_sections": true,
   "sideBar": true,
   "skip_h1_title": false,
   "title_cell": "Table of Contents",
   "title_sidebar": "Contents",
   "toc_cell": false,
   "toc_position": {
    "height": "calc(100% - 180px)",
    "left": "10px",
    "top": "150px",
    "width": "256px"
   },
   "toc_section_display": true,
   "toc_window_display": true
  }
 },
 "nbformat": 4,
 "nbformat_minor": 1
}
